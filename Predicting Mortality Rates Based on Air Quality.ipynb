{
 "cells": [
  {
   "cell_type": "code",
   "execution_count": 1,
   "metadata": {
    "collapsed": true
   },
   "outputs": [],
   "source": [
    "import pandas as pd\n",
    "import numpy as np\n",
    "from matplotlib import pyplot as plt\n",
    "%matplotlib inline\n",
    "import seaborn"
   ]
  },
  {
   "cell_type": "code",
   "execution_count": 2,
   "metadata": {
    "collapsed": true
   },
   "outputs": [],
   "source": [
    "air_quality_data = pd.read_csv(\"./train.csv\")"
   ]
  },
  {
   "cell_type": "code",
   "execution_count": 3,
   "metadata": {},
   "outputs": [
    {
     "data": {
      "text/html": [
       "<div>\n",
       "<table border=\"1\" class=\"dataframe\">\n",
       "  <thead>\n",
       "    <tr style=\"text-align: right;\">\n",
       "      <th></th>\n",
       "      <th>Id</th>\n",
       "      <th>region</th>\n",
       "      <th>date</th>\n",
       "      <th>mortality_rate</th>\n",
       "      <th>O3</th>\n",
       "      <th>PM10</th>\n",
       "      <th>PM25</th>\n",
       "      <th>NO2</th>\n",
       "      <th>T2M</th>\n",
       "    </tr>\n",
       "  </thead>\n",
       "  <tbody>\n",
       "    <tr>\n",
       "      <th>0</th>\n",
       "      <td>1</td>\n",
       "      <td>E12000001</td>\n",
       "      <td>2007-01-02</td>\n",
       "      <td>2.264</td>\n",
       "      <td>42.358</td>\n",
       "      <td>9.021</td>\n",
       "      <td>NaN</td>\n",
       "      <td>NaN</td>\n",
       "      <td>278.138</td>\n",
       "    </tr>\n",
       "    <tr>\n",
       "      <th>1</th>\n",
       "      <td>2</td>\n",
       "      <td>E12000001</td>\n",
       "      <td>2007-01-03</td>\n",
       "      <td>2.030</td>\n",
       "      <td>49.506</td>\n",
       "      <td>5.256</td>\n",
       "      <td>NaN</td>\n",
       "      <td>NaN</td>\n",
       "      <td>281.745</td>\n",
       "    </tr>\n",
       "    <tr>\n",
       "      <th>2</th>\n",
       "      <td>3</td>\n",
       "      <td>E12000001</td>\n",
       "      <td>2007-01-04</td>\n",
       "      <td>1.874</td>\n",
       "      <td>51.101</td>\n",
       "      <td>4.946</td>\n",
       "      <td>NaN</td>\n",
       "      <td>NaN</td>\n",
       "      <td>280.523</td>\n",
       "    </tr>\n",
       "    <tr>\n",
       "      <th>3</th>\n",
       "      <td>4</td>\n",
       "      <td>E12000001</td>\n",
       "      <td>2007-01-05</td>\n",
       "      <td>2.069</td>\n",
       "      <td>47.478</td>\n",
       "      <td>6.823</td>\n",
       "      <td>NaN</td>\n",
       "      <td>NaN</td>\n",
       "      <td>280.421</td>\n",
       "    </tr>\n",
       "    <tr>\n",
       "      <th>4</th>\n",
       "      <td>5</td>\n",
       "      <td>E12000001</td>\n",
       "      <td>2007-01-06</td>\n",
       "      <td>1.913</td>\n",
       "      <td>45.226</td>\n",
       "      <td>7.532</td>\n",
       "      <td>NaN</td>\n",
       "      <td>NaN</td>\n",
       "      <td>278.961</td>\n",
       "    </tr>\n",
       "  </tbody>\n",
       "</table>\n",
       "</div>"
      ],
      "text/plain": [
       "   Id     region        date  mortality_rate      O3   PM10  PM25  NO2  \\\n",
       "0   1  E12000001  2007-01-02           2.264  42.358  9.021   NaN  NaN   \n",
       "1   2  E12000001  2007-01-03           2.030  49.506  5.256   NaN  NaN   \n",
       "2   3  E12000001  2007-01-04           1.874  51.101  4.946   NaN  NaN   \n",
       "3   4  E12000001  2007-01-05           2.069  47.478  6.823   NaN  NaN   \n",
       "4   5  E12000001  2007-01-06           1.913  45.226  7.532   NaN  NaN   \n",
       "\n",
       "       T2M  \n",
       "0  278.138  \n",
       "1  281.745  \n",
       "2  280.523  \n",
       "3  280.421  \n",
       "4  278.961  "
      ]
     },
     "execution_count": 3,
     "metadata": {},
     "output_type": "execute_result"
    }
   ],
   "source": [
    "air_quality_data.head()"
   ]
  },
  {
   "cell_type": "code",
   "execution_count": 4,
   "metadata": {},
   "outputs": [
    {
     "data": {
      "text/html": [
       "<div>\n",
       "<table border=\"1\" class=\"dataframe\">\n",
       "  <thead>\n",
       "    <tr style=\"text-align: right;\">\n",
       "      <th></th>\n",
       "      <th>Id</th>\n",
       "      <th>mortality_rate</th>\n",
       "      <th>O3</th>\n",
       "      <th>PM10</th>\n",
       "      <th>PM25</th>\n",
       "      <th>NO2</th>\n",
       "      <th>T2M</th>\n",
       "    </tr>\n",
       "  </thead>\n",
       "  <tbody>\n",
       "    <tr>\n",
       "      <th>count</th>\n",
       "      <td>18403.000000</td>\n",
       "      <td>18403.000000</td>\n",
       "      <td>18394.000000</td>\n",
       "      <td>18394.000000</td>\n",
       "      <td>15127.000000</td>\n",
       "      <td>11833.000000</td>\n",
       "      <td>18403.000000</td>\n",
       "    </tr>\n",
       "    <tr>\n",
       "      <th>mean</th>\n",
       "      <td>9202.000000</td>\n",
       "      <td>1.301737</td>\n",
       "      <td>45.325857</td>\n",
       "      <td>13.712272</td>\n",
       "      <td>7.498714</td>\n",
       "      <td>12.045813</td>\n",
       "      <td>283.002235</td>\n",
       "    </tr>\n",
       "    <tr>\n",
       "      <th>std</th>\n",
       "      <td>5312.632838</td>\n",
       "      <td>0.304161</td>\n",
       "      <td>16.221330</td>\n",
       "      <td>7.421616</td>\n",
       "      <td>5.758357</td>\n",
       "      <td>8.296675</td>\n",
       "      <td>5.182186</td>\n",
       "    </tr>\n",
       "    <tr>\n",
       "      <th>min</th>\n",
       "      <td>1.000000</td>\n",
       "      <td>0.439000</td>\n",
       "      <td>0.988000</td>\n",
       "      <td>2.020000</td>\n",
       "      <td>0.904000</td>\n",
       "      <td>1.104000</td>\n",
       "      <td>265.562000</td>\n",
       "    </tr>\n",
       "    <tr>\n",
       "      <th>25%</th>\n",
       "      <td>4601.500000</td>\n",
       "      <td>1.102000</td>\n",
       "      <td>35.074250</td>\n",
       "      <td>8.656250</td>\n",
       "      <td>3.624000</td>\n",
       "      <td>6.056000</td>\n",
       "      <td>279.321500</td>\n",
       "    </tr>\n",
       "    <tr>\n",
       "      <th>50%</th>\n",
       "      <td>9202.000000</td>\n",
       "      <td>1.281000</td>\n",
       "      <td>45.836000</td>\n",
       "      <td>11.704500</td>\n",
       "      <td>5.636000</td>\n",
       "      <td>9.769000</td>\n",
       "      <td>283.270000</td>\n",
       "    </tr>\n",
       "    <tr>\n",
       "      <th>75%</th>\n",
       "      <td>13802.500000</td>\n",
       "      <td>1.474000</td>\n",
       "      <td>55.881000</td>\n",
       "      <td>16.589000</td>\n",
       "      <td>9.326500</td>\n",
       "      <td>15.858000</td>\n",
       "      <td>287.240500</td>\n",
       "    </tr>\n",
       "    <tr>\n",
       "      <th>max</th>\n",
       "      <td>18403.000000</td>\n",
       "      <td>2.841000</td>\n",
       "      <td>105.693000</td>\n",
       "      <td>60.627000</td>\n",
       "      <td>45.846000</td>\n",
       "      <td>76.765000</td>\n",
       "      <td>297.209000</td>\n",
       "    </tr>\n",
       "  </tbody>\n",
       "</table>\n",
       "</div>"
      ],
      "text/plain": [
       "                 Id  mortality_rate            O3          PM10          PM25  \\\n",
       "count  18403.000000    18403.000000  18394.000000  18394.000000  15127.000000   \n",
       "mean    9202.000000        1.301737     45.325857     13.712272      7.498714   \n",
       "std     5312.632838        0.304161     16.221330      7.421616      5.758357   \n",
       "min        1.000000        0.439000      0.988000      2.020000      0.904000   \n",
       "25%     4601.500000        1.102000     35.074250      8.656250      3.624000   \n",
       "50%     9202.000000        1.281000     45.836000     11.704500      5.636000   \n",
       "75%    13802.500000        1.474000     55.881000     16.589000      9.326500   \n",
       "max    18403.000000        2.841000    105.693000     60.627000     45.846000   \n",
       "\n",
       "                NO2           T2M  \n",
       "count  11833.000000  18403.000000  \n",
       "mean      12.045813    283.002235  \n",
       "std        8.296675      5.182186  \n",
       "min        1.104000    265.562000  \n",
       "25%        6.056000    279.321500  \n",
       "50%        9.769000    283.270000  \n",
       "75%       15.858000    287.240500  \n",
       "max       76.765000    297.209000  "
      ]
     },
     "execution_count": 4,
     "metadata": {},
     "output_type": "execute_result"
    }
   ],
   "source": [
    "air_quality_data.describe()"
   ]
  },
  {
   "cell_type": "code",
   "execution_count": 5,
   "metadata": {},
   "outputs": [
    {
     "data": {
      "text/plain": [
       "Id                  int64\n",
       "region             object\n",
       "date               object\n",
       "mortality_rate    float64\n",
       "O3                float64\n",
       "PM10              float64\n",
       "PM25              float64\n",
       "NO2               float64\n",
       "T2M               float64\n",
       "dtype: object"
      ]
     },
     "execution_count": 5,
     "metadata": {},
     "output_type": "execute_result"
    }
   ],
   "source": [
    "air_quality_data.dtypes"
   ]
  },
  {
   "cell_type": "code",
   "execution_count": 6,
   "metadata": {},
   "outputs": [
    {
     "data": {
      "text/plain": [
       "18403"
      ]
     },
     "execution_count": 6,
     "metadata": {},
     "output_type": "execute_result"
    }
   ],
   "source": [
    "air_quality_data.PM25.isnull().count()"
   ]
  },
  {
   "cell_type": "code",
   "execution_count": 7,
   "metadata": {},
   "outputs": [
    {
     "data": {
      "text/plain": [
       "3276"
      ]
     },
     "execution_count": 7,
     "metadata": {},
     "output_type": "execute_result"
    }
   ],
   "source": [
    "len(air_quality_data)-air_quality_data.PM25.count()"
   ]
  },
  {
   "cell_type": "code",
   "execution_count": 8,
   "metadata": {},
   "outputs": [
    {
     "data": {
      "text/plain": [
       "Id                   Axes(0.125,0.657941;0.227941x0.222059)\n",
       "mortality_rate    Axes(0.398529,0.657941;0.227941x0.222059)\n",
       "O3                Axes(0.672059,0.657941;0.227941x0.222059)\n",
       "PM10                 Axes(0.125,0.391471;0.227941x0.222059)\n",
       "PM25              Axes(0.398529,0.391471;0.227941x0.222059)\n",
       "NO2               Axes(0.672059,0.391471;0.227941x0.222059)\n",
       "T2M                     Axes(0.125,0.125;0.227941x0.222059)\n",
       "dtype: object"
      ]
     },
     "execution_count": 8,
     "metadata": {},
     "output_type": "execute_result"
    },
    {
     "data": {
      "image/png": "[encoded data removed]",
      "text/plain": [
       "<matplotlib.figure.Figure at 0x109f41f90>"
      ]
     },
     "metadata": {},
     "output_type": "display_data"
    }
   ],
   "source": [
    "air_quality_data.plot(kind= 'box' , subplots=True, layout=(3,3), sharex=False, sharey=False, figsize=(10,8))"
   ]
  },
  {
   "cell_type": "markdown",
   "metadata": {},
   "source": [
    "# Feature Scaling"
   ]
  },
  {
   "cell_type": "code",
   "execution_count": null,
   "metadata": {
    "collapsed": true
   },
   "outputs": [],
   "source": []
  },
  {
   "cell_type": "code",
   "execution_count": null,
   "metadata": {
    "collapsed": true
   },
   "outputs": [],
   "source": []
  },
  {
   "cell_type": "code",
   "execution_count": null,
   "metadata": {
    "collapsed": true
   },
   "outputs": [],
   "source": []
  },
  {
   "cell_type": "code",
   "execution_count": 9,
   "metadata": {
    "collapsed": true
   },
   "outputs": [],
   "source": [
    "from sklearn.preprocessing import StandardScaler"
   ]
  },
  {
   "cell_type": "code",
   "execution_count": 10,
   "metadata": {
    "collapsed": true
   },
   "outputs": [],
   "source": [
    "rescaledX = StandardScaler()"
   ]
  },
  {
   "cell_type": "code",
   "execution_count": 11,
   "metadata": {},
   "outputs": [
    {
     "name": "stdout",
     "output_type": "stream",
     "text": [
      "Id\n",
      "region\n",
      "date\n",
      "mortality_rate\n",
      "O3\n",
      "PM10\n",
      "PM25\n",
      "NO2\n",
      "T2M\n"
     ]
    }
   ],
   "source": [
    "for col in air_quality_data.columns:\n",
    "    print col"
   ]
  },
  {
   "cell_type": "code",
   "execution_count": null,
   "metadata": {
    "collapsed": true
   },
   "outputs": [],
   "source": []
  },
  {
   "cell_type": "code",
   "execution_count": 12,
   "metadata": {},
   "outputs": [
    {
     "ename": "ValueError",
     "evalue": "invalid literal for float(): 2012-05-27",
     "output_type": "error",
     "traceback": [
      "\u001b[0;31m---------------------------------------------------------------------------\u001b[0m",
      "\u001b[0;31mValueError\u001b[0m                                Traceback (most recent call last)",
      "\u001b[0;32m<ipython-input-12-3ac7629b897c>\u001b[0m in \u001b[0;36m<module>\u001b[0;34m()\u001b[0m\n\u001b[0;32m----> 1\u001b[0;31m \u001b[0mrescaledX\u001b[0m\u001b[0;34m.\u001b[0m\u001b[0mfit\u001b[0m\u001b[0;34m(\u001b[0m\u001b[0mair_quality_data\u001b[0m\u001b[0;34m)\u001b[0m\u001b[0;34m\u001b[0m\u001b[0m\n\u001b[0m",
      "\u001b[0;32m/anaconda/lib/python2.7/site-packages/sklearn/preprocessing/data.pyc\u001b[0m in \u001b[0;36mfit\u001b[0;34m(self, X, y)\u001b[0m\n\u001b[1;32m    558\u001b[0m         \u001b[0;31m# Reset internal state before fitting\u001b[0m\u001b[0;34m\u001b[0m\u001b[0;34m\u001b[0m\u001b[0m\n\u001b[1;32m    559\u001b[0m         \u001b[0mself\u001b[0m\u001b[0;34m.\u001b[0m\u001b[0m_reset\u001b[0m\u001b[0;34m(\u001b[0m\u001b[0;34m)\u001b[0m\u001b[0;34m\u001b[0m\u001b[0m\n\u001b[0;32m--> 560\u001b[0;31m         \u001b[0;32mreturn\u001b[0m \u001b[0mself\u001b[0m\u001b[0;34m.\u001b[0m\u001b[0mpartial_fit\u001b[0m\u001b[0;34m(\u001b[0m\u001b[0mX\u001b[0m\u001b[0;34m,\u001b[0m \u001b[0my\u001b[0m\u001b[0;34m)\u001b[0m\u001b[0;34m\u001b[0m\u001b[0m\n\u001b[0m\u001b[1;32m    561\u001b[0m \u001b[0;34m\u001b[0m\u001b[0m\n\u001b[1;32m    562\u001b[0m     \u001b[0;32mdef\u001b[0m \u001b[0mpartial_fit\u001b[0m\u001b[0;34m(\u001b[0m\u001b[0mself\u001b[0m\u001b[0;34m,\u001b[0m \u001b[0mX\u001b[0m\u001b[0;34m,\u001b[0m \u001b[0my\u001b[0m\u001b[0;34m=\u001b[0m\u001b[0mNone\u001b[0m\u001b[0;34m)\u001b[0m\u001b[0;34m:\u001b[0m\u001b[0;34m\u001b[0m\u001b[0m\n",
      "\u001b[0;32m/anaconda/lib/python2.7/site-packages/sklearn/preprocessing/data.pyc\u001b[0m in \u001b[0;36mpartial_fit\u001b[0;34m(self, X, y)\u001b[0m\n\u001b[1;32m    581\u001b[0m         X = check_array(X, accept_sparse=('csr', 'csc'), copy=self.copy,\n\u001b[1;32m    582\u001b[0m                         \u001b[0mensure_2d\u001b[0m\u001b[0;34m=\u001b[0m\u001b[0mFalse\u001b[0m\u001b[0;34m,\u001b[0m \u001b[0mwarn_on_dtype\u001b[0m\u001b[0;34m=\u001b[0m\u001b[0mTrue\u001b[0m\u001b[0;34m,\u001b[0m\u001b[0;34m\u001b[0m\u001b[0m\n\u001b[0;32m--> 583\u001b[0;31m                         estimator=self, dtype=FLOAT_DTYPES)\n\u001b[0m\u001b[1;32m    584\u001b[0m \u001b[0;34m\u001b[0m\u001b[0m\n\u001b[1;32m    585\u001b[0m         \u001b[0;32mif\u001b[0m \u001b[0mX\u001b[0m\u001b[0;34m.\u001b[0m\u001b[0mndim\u001b[0m \u001b[0;34m==\u001b[0m \u001b[0;36m1\u001b[0m\u001b[0;34m:\u001b[0m\u001b[0;34m\u001b[0m\u001b[0m\n",
      "\u001b[0;32m/anaconda/lib/python2.7/site-packages/sklearn/utils/validation.pyc\u001b[0m in \u001b[0;36mcheck_array\u001b[0;34m(array, accept_sparse, dtype, order, copy, force_all_finite, ensure_2d, allow_nd, ensure_min_samples, ensure_min_features, warn_on_dtype, estimator)\u001b[0m\n\u001b[1;32m    380\u001b[0m                                       force_all_finite)\n\u001b[1;32m    381\u001b[0m     \u001b[0;32melse\u001b[0m\u001b[0;34m:\u001b[0m\u001b[0;34m\u001b[0m\u001b[0m\n\u001b[0;32m--> 382\u001b[0;31m         \u001b[0marray\u001b[0m \u001b[0;34m=\u001b[0m \u001b[0mnp\u001b[0m\u001b[0;34m.\u001b[0m\u001b[0marray\u001b[0m\u001b[0;34m(\u001b[0m\u001b[0marray\u001b[0m\u001b[0;34m,\u001b[0m \u001b[0mdtype\u001b[0m\u001b[0;34m=\u001b[0m\u001b[0mdtype\u001b[0m\u001b[0;34m,\u001b[0m \u001b[0morder\u001b[0m\u001b[0;34m=\u001b[0m\u001b[0morder\u001b[0m\u001b[0;34m,\u001b[0m \u001b[0mcopy\u001b[0m\u001b[0;34m=\u001b[0m\u001b[0mcopy\u001b[0m\u001b[0;34m)\u001b[0m\u001b[0;34m\u001b[0m\u001b[0m\n\u001b[0m\u001b[1;32m    383\u001b[0m \u001b[0;34m\u001b[0m\u001b[0m\n\u001b[1;32m    384\u001b[0m         \u001b[0;32mif\u001b[0m \u001b[0mensure_2d\u001b[0m\u001b[0;34m:\u001b[0m\u001b[0;34m\u001b[0m\u001b[0m\n",
      "\u001b[0;31mValueError\u001b[0m: invalid literal for float(): 2012-05-27"
     ]
    }
   ],
   "source": [
    "rescaledX.fit(air_quality_data)"
   ]
  },
  {
   "cell_type": "code",
   "execution_count": 13,
   "metadata": {},
   "outputs": [
    {
     "ename": "PandasError",
     "evalue": "DataFrame constructor not properly called!",
     "output_type": "error",
     "traceback": [
      "\u001b[0;31m---------------------------------------------------------------------------\u001b[0m",
      "\u001b[0;31mPandasError\u001b[0m                               Traceback (most recent call last)",
      "\u001b[0;32m<ipython-input-13-ceee545d3b46>\u001b[0m in \u001b[0;36m<module>\u001b[0;34m()\u001b[0m\n\u001b[0;32m----> 1\u001b[0;31m \u001b[0mX\u001b[0m \u001b[0;34m=\u001b[0m \u001b[0mpd\u001b[0m\u001b[0;34m.\u001b[0m\u001b[0mDataFrame\u001b[0m\u001b[0;34m(\u001b[0m\u001b[0mdata\u001b[0m \u001b[0;34m=\u001b[0m \u001b[0mrescaledX\u001b[0m\u001b[0;34m,\u001b[0m \u001b[0mcolumns\u001b[0m\u001b[0;34m=\u001b[0m \u001b[0mair_quality_data\u001b[0m\u001b[0;34m.\u001b[0m\u001b[0mcolumns\u001b[0m\u001b[0;34m)\u001b[0m\u001b[0;34m\u001b[0m\u001b[0m\n\u001b[0m",
      "\u001b[0;32m/Users/surajus/.local/lib/python2.7/site-packages/pandas/core/frame.pyc\u001b[0m in \u001b[0;36m__init__\u001b[0;34m(self, data, index, columns, dtype, copy)\u001b[0m\n\u001b[1;32m    343\u001b[0m                                          copy=False)\n\u001b[1;32m    344\u001b[0m             \u001b[0;32melse\u001b[0m\u001b[0;34m:\u001b[0m\u001b[0;34m\u001b[0m\u001b[0m\n\u001b[0;32m--> 345\u001b[0;31m                 \u001b[0;32mraise\u001b[0m \u001b[0mPandasError\u001b[0m\u001b[0;34m(\u001b[0m\u001b[0;34m'DataFrame constructor not properly called!'\u001b[0m\u001b[0;34m)\u001b[0m\u001b[0;34m\u001b[0m\u001b[0m\n\u001b[0m\u001b[1;32m    346\u001b[0m \u001b[0;34m\u001b[0m\u001b[0m\n\u001b[1;32m    347\u001b[0m         \u001b[0mNDFrame\u001b[0m\u001b[0;34m.\u001b[0m\u001b[0m__init__\u001b[0m\u001b[0;34m(\u001b[0m\u001b[0mself\u001b[0m\u001b[0;34m,\u001b[0m \u001b[0mmgr\u001b[0m\u001b[0;34m,\u001b[0m \u001b[0mfastpath\u001b[0m\u001b[0;34m=\u001b[0m\u001b[0mTrue\u001b[0m\u001b[0;34m)\u001b[0m\u001b[0;34m\u001b[0m\u001b[0m\n",
      "\u001b[0;31mPandasError\u001b[0m: DataFrame constructor not properly called!"
     ]
    }
   ],
   "source": [
    "X = pd.DataFrame(data = rescaledX, columns= air_quality_data.columns)"
   ]
  },
  {
   "cell_type": "code",
   "execution_count": 60,
   "metadata": {
    "collapsed": true
   },
   "outputs": [],
   "source": [
    "air_data_features=air_quality_data.columns[1:]"
   ]
  },
  {
   "cell_type": "code",
   "execution_count": null,
   "metadata": {},
   "outputs": [],
   "source": [
    "air_data_features"
   ]
  },
  {
   "cell_type": "code",
   "execution_count": null,
   "metadata": {
    "collapsed": true
   },
   "outputs": [],
   "source": [
    "mortality_rate="
   ]
  },
  {
   "cell_type": "code",
   "execution_count": 64,
   "metadata": {
    "collapsed": true
   },
   "outputs": [],
   "source": [
    "contineous_data=air_quality_data[air_quality_data.dtypes[(air_quality_data.dtypes==\"float64\")|(air_quality_data.dtypes==\"int64\")]\n",
    "                        .index.values]"
   ]
  },
  {
   "cell_type": "code",
   "execution_count": 65,
   "metadata": {
    "collapsed": true
   },
   "outputs": [],
   "source": [
    "contineous_data=contineous_data.drop(['Id'],axis=1)"
   ]
  },
  {
   "cell_type": "code",
   "execution_count": 66,
   "metadata": {
    "collapsed": true
   },
   "outputs": [],
   "source": [
    "non_continuous_data=air_quality_data[air_quality_data.dtypes[(air_quality_data.dtypes==\"object\")]\n",
    "                        .index.values]"
   ]
  },
  {
   "cell_type": "code",
   "execution_count": 67,
   "metadata": {},
   "outputs": [
    {
     "data": {
      "text/html": [
       "<div>\n",
       "<table border=\"1\" class=\"dataframe\">\n",
       "  <thead>\n",
       "    <tr style=\"text-align: right;\">\n",
       "      <th></th>\n",
       "      <th>mortality_rate</th>\n",
       "      <th>O3</th>\n",
       "      <th>PM10</th>\n",
       "      <th>PM25</th>\n",
       "      <th>NO2</th>\n",
       "      <th>T2M</th>\n",
       "    </tr>\n",
       "  </thead>\n",
       "  <tbody>\n",
       "    <tr>\n",
       "      <th>0</th>\n",
       "      <td>2.264</td>\n",
       "      <td>42.358</td>\n",
       "      <td>9.021</td>\n",
       "      <td>NaN</td>\n",
       "      <td>NaN</td>\n",
       "      <td>278.138</td>\n",
       "    </tr>\n",
       "    <tr>\n",
       "      <th>1</th>\n",
       "      <td>2.030</td>\n",
       "      <td>49.506</td>\n",
       "      <td>5.256</td>\n",
       "      <td>NaN</td>\n",
       "      <td>NaN</td>\n",
       "      <td>281.745</td>\n",
       "    </tr>\n",
       "    <tr>\n",
       "      <th>2</th>\n",
       "      <td>1.874</td>\n",
       "      <td>51.101</td>\n",
       "      <td>4.946</td>\n",
       "      <td>NaN</td>\n",
       "      <td>NaN</td>\n",
       "      <td>280.523</td>\n",
       "    </tr>\n",
       "    <tr>\n",
       "      <th>3</th>\n",
       "      <td>2.069</td>\n",
       "      <td>47.478</td>\n",
       "      <td>6.823</td>\n",
       "      <td>NaN</td>\n",
       "      <td>NaN</td>\n",
       "      <td>280.421</td>\n",
       "    </tr>\n",
       "    <tr>\n",
       "      <th>4</th>\n",
       "      <td>1.913</td>\n",
       "      <td>45.226</td>\n",
       "      <td>7.532</td>\n",
       "      <td>NaN</td>\n",
       "      <td>NaN</td>\n",
       "      <td>278.961</td>\n",
       "    </tr>\n",
       "  </tbody>\n",
       "</table>\n",
       "</div>"
      ],
      "text/plain": [
       "   mortality_rate      O3   PM10  PM25  NO2      T2M\n",
       "0           2.264  42.358  9.021   NaN  NaN  278.138\n",
       "1           2.030  49.506  5.256   NaN  NaN  281.745\n",
       "2           1.874  51.101  4.946   NaN  NaN  280.523\n",
       "3           2.069  47.478  6.823   NaN  NaN  280.421\n",
       "4           1.913  45.226  7.532   NaN  NaN  278.961"
      ]
     },
     "execution_count": 67,
     "metadata": {},
     "output_type": "execute_result"
    }
   ],
   "source": [
    "contineous_data.head()"
   ]
  },
  {
   "cell_type": "code",
   "execution_count": 68,
   "metadata": {},
   "outputs": [
    {
     "data": {
      "text/html": [
       "<div>\n",
       "<table border=\"1\" class=\"dataframe\">\n",
       "  <thead>\n",
       "    <tr style=\"text-align: right;\">\n",
       "      <th></th>\n",
       "      <th>region</th>\n",
       "      <th>date</th>\n",
       "    </tr>\n",
       "  </thead>\n",
       "  <tbody>\n",
       "    <tr>\n",
       "      <th>0</th>\n",
       "      <td>E12000001</td>\n",
       "      <td>2007-01-02</td>\n",
       "    </tr>\n",
       "    <tr>\n",
       "      <th>1</th>\n",
       "      <td>E12000001</td>\n",
       "      <td>2007-01-03</td>\n",
       "    </tr>\n",
       "    <tr>\n",
       "      <th>2</th>\n",
       "      <td>E12000001</td>\n",
       "      <td>2007-01-04</td>\n",
       "    </tr>\n",
       "    <tr>\n",
       "      <th>3</th>\n",
       "      <td>E12000001</td>\n",
       "      <td>2007-01-05</td>\n",
       "    </tr>\n",
       "    <tr>\n",
       "      <th>4</th>\n",
       "      <td>E12000001</td>\n",
       "      <td>2007-01-06</td>\n",
       "    </tr>\n",
       "  </tbody>\n",
       "</table>\n",
       "</div>"
      ],
      "text/plain": [
       "      region        date\n",
       "0  E12000001  2007-01-02\n",
       "1  E12000001  2007-01-03\n",
       "2  E12000001  2007-01-04\n",
       "3  E12000001  2007-01-05\n",
       "4  E12000001  2007-01-06"
      ]
     },
     "execution_count": 68,
     "metadata": {},
     "output_type": "execute_result"
    }
   ],
   "source": [
    "non_continuous_data.head()"
   ]
  },
  {
   "cell_type": "code",
   "execution_count": 69,
   "metadata": {},
   "outputs": [
    {
     "data": {
      "text/plain": [
       "0         7.498714\n",
       "1         7.498714\n",
       "2         7.498714\n",
       "3         7.498714\n",
       "4         7.498714\n",
       "5         7.498714\n",
       "6         7.498714\n",
       "7         7.498714\n",
       "8         7.498714\n",
       "9         7.498714\n",
       "10        7.498714\n",
       "11        7.498714\n",
       "12        7.498714\n",
       "13        7.498714\n",
       "14        7.498714\n",
       "15        7.498714\n",
       "16        7.498714\n",
       "17        7.498714\n",
       "18        7.498714\n",
       "19        7.498714\n",
       "20        7.498714\n",
       "21        7.498714\n",
       "22        7.498714\n",
       "23        7.498714\n",
       "24        7.498714\n",
       "25        7.498714\n",
       "26        7.498714\n",
       "27        7.498714\n",
       "28        7.498714\n",
       "29        7.498714\n",
       "           ...    \n",
       "18373     4.853000\n",
       "18374     6.303000\n",
       "18375     9.054000\n",
       "18376    12.800000\n",
       "18377    15.561000\n",
       "18378     6.550000\n",
       "18379     6.881000\n",
       "18380     3.183000\n",
       "18381     4.682000\n",
       "18382    10.414000\n",
       "18383     9.328000\n",
       "18384     8.970000\n",
       "18385     3.808000\n",
       "18386     4.821000\n",
       "18387     5.681000\n",
       "18388     7.960000\n",
       "18389     6.316000\n",
       "18390     4.806000\n",
       "18391     5.862000\n",
       "18392    12.528000\n",
       "18393    17.184000\n",
       "18394    14.621000\n",
       "18395     9.166000\n",
       "18396    16.799000\n",
       "18397    20.172000\n",
       "18398    26.205000\n",
       "18399    33.014000\n",
       "18400    16.496000\n",
       "18401    15.675000\n",
       "18402    15.244000\n",
       "Name: PM25, dtype: float64"
      ]
     },
     "execution_count": 69,
     "metadata": {},
     "output_type": "execute_result"
    }
   ],
   "source": [
    "contineous_data['PM25'].fillna(contineous_data['PM25'].mean())"
   ]
  },
  {
   "cell_type": "code",
   "execution_count": 70,
   "metadata": {},
   "outputs": [
    {
     "data": {
      "text/plain": [
       "Index([u'mortality_rate', u'O3', u'PM10', u'PM25', u'NO2', u'T2M'], dtype='object')"
      ]
     },
     "execution_count": 70,
     "metadata": {},
     "output_type": "execute_result"
    }
   ],
   "source": [
    "contineous_data.columns"
   ]
  },
  {
   "cell_type": "code",
   "execution_count": null,
   "metadata": {
    "collapsed": true
   },
   "outputs": [],
   "source": []
  },
  {
   "cell_type": "code",
   "execution_count": 73,
   "metadata": {},
   "outputs": [],
   "source": [
    "mortality=contineous_data.pop('mortality_rate')"
   ]
  },
  {
   "cell_type": "code",
   "execution_count": 75,
   "metadata": {},
   "outputs": [
    {
     "data": {
      "text/html": [
       "<div>\n",
       "<table border=\"1\" class=\"dataframe\">\n",
       "  <thead>\n",
       "    <tr style=\"text-align: right;\">\n",
       "      <th></th>\n",
       "      <th>O3</th>\n",
       "      <th>PM10</th>\n",
       "      <th>PM25</th>\n",
       "      <th>NO2</th>\n",
       "      <th>T2M</th>\n",
       "    </tr>\n",
       "  </thead>\n",
       "  <tbody>\n",
       "    <tr>\n",
       "      <th>0</th>\n",
       "      <td>42.358</td>\n",
       "      <td>9.021</td>\n",
       "      <td>NaN</td>\n",
       "      <td>NaN</td>\n",
       "      <td>278.138</td>\n",
       "    </tr>\n",
       "    <tr>\n",
       "      <th>1</th>\n",
       "      <td>49.506</td>\n",
       "      <td>5.256</td>\n",
       "      <td>NaN</td>\n",
       "      <td>NaN</td>\n",
       "      <td>281.745</td>\n",
       "    </tr>\n",
       "    <tr>\n",
       "      <th>2</th>\n",
       "      <td>51.101</td>\n",
       "      <td>4.946</td>\n",
       "      <td>NaN</td>\n",
       "      <td>NaN</td>\n",
       "      <td>280.523</td>\n",
       "    </tr>\n",
       "    <tr>\n",
       "      <th>3</th>\n",
       "      <td>47.478</td>\n",
       "      <td>6.823</td>\n",
       "      <td>NaN</td>\n",
       "      <td>NaN</td>\n",
       "      <td>280.421</td>\n",
       "    </tr>\n",
       "    <tr>\n",
       "      <th>4</th>\n",
       "      <td>45.226</td>\n",
       "      <td>7.532</td>\n",
       "      <td>NaN</td>\n",
       "      <td>NaN</td>\n",
       "      <td>278.961</td>\n",
       "    </tr>\n",
       "  </tbody>\n",
       "</table>\n",
       "</div>"
      ],
      "text/plain": [
       "       O3   PM10  PM25  NO2      T2M\n",
       "0  42.358  9.021   NaN  NaN  278.138\n",
       "1  49.506  5.256   NaN  NaN  281.745\n",
       "2  51.101  4.946   NaN  NaN  280.523\n",
       "3  47.478  6.823   NaN  NaN  280.421\n",
       "4  45.226  7.532   NaN  NaN  278.961"
      ]
     },
     "execution_count": 75,
     "metadata": {},
     "output_type": "execute_result"
    }
   ],
   "source": [
    "contineous_data.head()"
   ]
  },
  {
   "cell_type": "code",
   "execution_count": 93,
   "metadata": {},
   "outputs": [
    {
     "data": {
      "text/html": [
       "<div>\n",
       "<table border=\"1\" class=\"dataframe\">\n",
       "  <thead>\n",
       "    <tr style=\"text-align: right;\">\n",
       "      <th></th>\n",
       "      <th>O3</th>\n",
       "      <th>PM10</th>\n",
       "      <th>PM25</th>\n",
       "      <th>NO2</th>\n",
       "      <th>T2M</th>\n",
       "    </tr>\n",
       "  </thead>\n",
       "  <tbody>\n",
       "    <tr>\n",
       "      <th>count</th>\n",
       "      <td>18394.000000</td>\n",
       "      <td>18394.000000</td>\n",
       "      <td>15127.000000</td>\n",
       "      <td>11833.000000</td>\n",
       "      <td>18403.000000</td>\n",
       "    </tr>\n",
       "    <tr>\n",
       "      <th>mean</th>\n",
       "      <td>45.325857</td>\n",
       "      <td>13.712272</td>\n",
       "      <td>7.498714</td>\n",
       "      <td>12.045813</td>\n",
       "      <td>283.002235</td>\n",
       "    </tr>\n",
       "    <tr>\n",
       "      <th>std</th>\n",
       "      <td>16.221330</td>\n",
       "      <td>7.421616</td>\n",
       "      <td>5.758357</td>\n",
       "      <td>8.296675</td>\n",
       "      <td>5.182186</td>\n",
       "    </tr>\n",
       "    <tr>\n",
       "      <th>min</th>\n",
       "      <td>0.988000</td>\n",
       "      <td>2.020000</td>\n",
       "      <td>0.904000</td>\n",
       "      <td>1.104000</td>\n",
       "      <td>265.562000</td>\n",
       "    </tr>\n",
       "    <tr>\n",
       "      <th>25%</th>\n",
       "      <td>35.074250</td>\n",
       "      <td>8.656250</td>\n",
       "      <td>3.624000</td>\n",
       "      <td>6.056000</td>\n",
       "      <td>279.321500</td>\n",
       "    </tr>\n",
       "    <tr>\n",
       "      <th>50%</th>\n",
       "      <td>45.836000</td>\n",
       "      <td>11.704500</td>\n",
       "      <td>5.636000</td>\n",
       "      <td>9.769000</td>\n",
       "      <td>283.270000</td>\n",
       "    </tr>\n",
       "    <tr>\n",
       "      <th>75%</th>\n",
       "      <td>55.881000</td>\n",
       "      <td>16.589000</td>\n",
       "      <td>9.326500</td>\n",
       "      <td>15.858000</td>\n",
       "      <td>287.240500</td>\n",
       "    </tr>\n",
       "    <tr>\n",
       "      <th>max</th>\n",
       "      <td>105.693000</td>\n",
       "      <td>60.627000</td>\n",
       "      <td>45.846000</td>\n",
       "      <td>76.765000</td>\n",
       "      <td>297.209000</td>\n",
       "    </tr>\n",
       "  </tbody>\n",
       "</table>\n",
       "</div>"
      ],
      "text/plain": [
       "                 O3          PM10          PM25           NO2           T2M\n",
       "count  18394.000000  18394.000000  15127.000000  11833.000000  18403.000000\n",
       "mean      45.325857     13.712272      7.498714     12.045813    283.002235\n",
       "std       16.221330      7.421616      5.758357      8.296675      5.182186\n",
       "min        0.988000      2.020000      0.904000      1.104000    265.562000\n",
       "25%       35.074250      8.656250      3.624000      6.056000    279.321500\n",
       "50%       45.836000     11.704500      5.636000      9.769000    283.270000\n",
       "75%       55.881000     16.589000      9.326500     15.858000    287.240500\n",
       "max      105.693000     60.627000     45.846000     76.765000    297.209000"
      ]
     },
     "execution_count": 93,
     "metadata": {},
     "output_type": "execute_result"
    }
   ],
   "source": [
    "contineous_data.describe()"
   ]
  },
  {
   "cell_type": "code",
   "execution_count": 76,
   "metadata": {
    "collapsed": true
   },
   "outputs": [],
   "source": [
    "cont =contineous_data.fillna(contineous_data.mean())"
   ]
  },
  {
   "cell_type": "code",
   "execution_count": 77,
   "metadata": {
    "collapsed": true
   },
   "outputs": [],
   "source": [
    "rr=rescaledX.fit_transform(cont)"
   ]
  },
  {
   "cell_type": "code",
   "execution_count": 78,
   "metadata": {
    "collapsed": true
   },
   "outputs": [],
   "source": [
    "X = pd.DataFrame(data = rr, columns= contineous_data.columns)"
   ]
  },
  {
   "cell_type": "code",
   "execution_count": 94,
   "metadata": {},
   "outputs": [
    {
     "data": {
      "text/html": [
       "<div>\n",
       "<table border=\"1\" class=\"dataframe\">\n",
       "  <thead>\n",
       "    <tr style=\"text-align: right;\">\n",
       "      <th></th>\n",
       "      <th>O3</th>\n",
       "      <th>PM10</th>\n",
       "      <th>PM25</th>\n",
       "      <th>NO2</th>\n",
       "      <th>T2M</th>\n",
       "    </tr>\n",
       "  </thead>\n",
       "  <tbody>\n",
       "    <tr>\n",
       "      <th>count</th>\n",
       "      <td>1.840300e+04</td>\n",
       "      <td>1.840300e+04</td>\n",
       "      <td>1.840300e+04</td>\n",
       "      <td>1.840300e+04</td>\n",
       "      <td>1.840300e+04</td>\n",
       "    </tr>\n",
       "    <tr>\n",
       "      <th>mean</th>\n",
       "      <td>-3.145521e-16</td>\n",
       "      <td>-1.287468e-16</td>\n",
       "      <td>-2.541152e-16</td>\n",
       "      <td>-2.404621e-16</td>\n",
       "      <td>-2.748066e-15</td>\n",
       "    </tr>\n",
       "    <tr>\n",
       "      <th>std</th>\n",
       "      <td>1.000027e+00</td>\n",
       "      <td>1.000027e+00</td>\n",
       "      <td>1.000027e+00</td>\n",
       "      <td>1.000027e+00</td>\n",
       "      <td>1.000027e+00</td>\n",
       "    </tr>\n",
       "    <tr>\n",
       "      <th>min</th>\n",
       "      <td>-2.734049e+00</td>\n",
       "      <td>-1.575863e+00</td>\n",
       "      <td>-1.263222e+00</td>\n",
       "      <td>-1.644752e+00</td>\n",
       "      <td>-3.365512e+00</td>\n",
       "    </tr>\n",
       "    <tr>\n",
       "      <th>25%</th>\n",
       "      <td>-6.318928e-01</td>\n",
       "      <td>-6.811381e-01</td>\n",
       "      <td>-6.648175e-01</td>\n",
       "      <td>-6.137957e-01</td>\n",
       "      <td>-7.102862e-01</td>\n",
       "    </tr>\n",
       "    <tr>\n",
       "      <th>50%</th>\n",
       "      <td>3.084079e-02</td>\n",
       "      <td>-2.704017e-01</td>\n",
       "      <td>-1.165995e-01</td>\n",
       "      <td>8.010555e-16</td>\n",
       "      <td>5.167164e-02</td>\n",
       "    </tr>\n",
       "    <tr>\n",
       "      <th>75%</th>\n",
       "      <td>6.508105e-01</td>\n",
       "      <td>3.875179e-01</td>\n",
       "      <td>1.371094e-01</td>\n",
       "      <td>8.010555e-16</td>\n",
       "      <td>8.178749e-01</td>\n",
       "    </tr>\n",
       "    <tr>\n",
       "      <th>max</th>\n",
       "      <td>3.722478e+00</td>\n",
       "      <td>6.323081e+00</td>\n",
       "      <td>7.345448e+00</td>\n",
       "      <td>9.728462e+00</td>\n",
       "      <td>2.741536e+00</td>\n",
       "    </tr>\n",
       "  </tbody>\n",
       "</table>\n",
       "</div>"
      ],
      "text/plain": [
       "                 O3          PM10          PM25           NO2           T2M\n",
       "count  1.840300e+04  1.840300e+04  1.840300e+04  1.840300e+04  1.840300e+04\n",
       "mean  -3.145521e-16 -1.287468e-16 -2.541152e-16 -2.404621e-16 -2.748066e-15\n",
       "std    1.000027e+00  1.000027e+00  1.000027e+00  1.000027e+00  1.000027e+00\n",
       "min   -2.734049e+00 -1.575863e+00 -1.263222e+00 -1.644752e+00 -3.365512e+00\n",
       "25%   -6.318928e-01 -6.811381e-01 -6.648175e-01 -6.137957e-01 -7.102862e-01\n",
       "50%    3.084079e-02 -2.704017e-01 -1.165995e-01  8.010555e-16  5.167164e-02\n",
       "75%    6.508105e-01  3.875179e-01  1.371094e-01  8.010555e-16  8.178749e-01\n",
       "max    3.722478e+00  6.323081e+00  7.345448e+00  9.728462e+00  2.741536e+00"
      ]
     },
     "execution_count": 94,
     "metadata": {},
     "output_type": "execute_result"
    }
   ],
   "source": [
    "X.describe()"
   ]
  },
  {
   "cell_type": "code",
   "execution_count": 79,
   "metadata": {},
   "outputs": [
    {
     "data": {
      "text/plain": [
       "O3         Axes(0.125,0.657941;0.227941x0.222059)\n",
       "PM10    Axes(0.398529,0.657941;0.227941x0.222059)\n",
       "PM25    Axes(0.672059,0.657941;0.227941x0.222059)\n",
       "NO2        Axes(0.125,0.391471;0.227941x0.222059)\n",
       "T2M     Axes(0.398529,0.391471;0.227941x0.222059)\n",
       "dtype: object"
      ]
     },
     "execution_count": 79,
     "metadata": {},
     "output_type": "execute_result"
    },
    {
     "data": {
      "image/png": "[encoded data removed]",
      "text/plain": [
       "<matplotlib.figure.Figure at 0x11a166c90>"
      ]
     },
     "metadata": {},
     "output_type": "display_data"
    }
   ],
   "source": [
    "X.plot(kind= 'box' , subplots=True, layout=(3,3), sharex=False, sharey=False, figsize=(10,8))"
   ]
  },
  {
   "cell_type": "code",
   "execution_count": 80,
   "metadata": {
    "collapsed": true
   },
   "outputs": [],
   "source": [
    "from sklearn.preprocessing import LabelEncoder"
   ]
  },
  {
   "cell_type": "code",
   "execution_count": 81,
   "metadata": {},
   "outputs": [],
   "source": [
    "convert_to_categorical=LabelEncoder()"
   ]
  },
  {
   "cell_type": "code",
   "execution_count": 82,
   "metadata": {},
   "outputs": [
    {
     "data": {
      "text/plain": [
       "array([0, 0, 0, ..., 5, 5, 5])"
      ]
     },
     "execution_count": 82,
     "metadata": {},
     "output_type": "execute_result"
    }
   ],
   "source": [
    "convert_to_categorical.fit_transform(non_continuous_data.region.astype('str'))"
   ]
  },
  {
   "cell_type": "code",
   "execution_count": 83,
   "metadata": {},
   "outputs": [
    {
     "data": {
      "text/plain": [
       "array([   0,    1,    2, ..., 1970, 1971, 1972])"
      ]
     },
     "execution_count": 83,
     "metadata": {},
     "output_type": "execute_result"
    }
   ],
   "source": [
    "convert_to_categorical.fit_transform(non_continuous_data.date.astype('str'))"
   ]
  },
  {
   "cell_type": "code",
   "execution_count": 84,
   "metadata": {
    "collapsed": true
   },
   "outputs": [],
   "source": [
    "final_features=X"
   ]
  },
  {
   "cell_type": "code",
   "execution_count": 85,
   "metadata": {},
   "outputs": [
    {
     "data": {
      "text/html": [
       "<div>\n",
       "<table border=\"1\" class=\"dataframe\">\n",
       "  <thead>\n",
       "    <tr style=\"text-align: right;\">\n",
       "      <th></th>\n",
       "      <th>O3</th>\n",
       "      <th>PM10</th>\n",
       "      <th>PM25</th>\n",
       "      <th>NO2</th>\n",
       "      <th>T2M</th>\n",
       "    </tr>\n",
       "  </thead>\n",
       "  <tbody>\n",
       "    <tr>\n",
       "      <th>0</th>\n",
       "      <td>-0.183010</td>\n",
       "      <td>-0.632281</td>\n",
       "      <td>2.551967e-15</td>\n",
       "      <td>8.010555e-16</td>\n",
       "      <td>-0.938671</td>\n",
       "    </tr>\n",
       "    <tr>\n",
       "      <th>1</th>\n",
       "      <td>0.257764</td>\n",
       "      <td>-1.139721</td>\n",
       "      <td>2.551967e-15</td>\n",
       "      <td>8.010555e-16</td>\n",
       "      <td>-0.242614</td>\n",
       "    </tr>\n",
       "    <tr>\n",
       "      <th>2</th>\n",
       "      <td>0.356118</td>\n",
       "      <td>-1.181502</td>\n",
       "      <td>2.551967e-15</td>\n",
       "      <td>8.010555e-16</td>\n",
       "      <td>-0.478428</td>\n",
       "    </tr>\n",
       "    <tr>\n",
       "      <th>3</th>\n",
       "      <td>0.132710</td>\n",
       "      <td>-0.928523</td>\n",
       "      <td>2.551967e-15</td>\n",
       "      <td>8.010555e-16</td>\n",
       "      <td>-0.498111</td>\n",
       "    </tr>\n",
       "    <tr>\n",
       "      <th>4</th>\n",
       "      <td>-0.006158</td>\n",
       "      <td>-0.832966</td>\n",
       "      <td>2.551967e-15</td>\n",
       "      <td>8.010555e-16</td>\n",
       "      <td>-0.779853</td>\n",
       "    </tr>\n",
       "  </tbody>\n",
       "</table>\n",
       "</div>"
      ],
      "text/plain": [
       "         O3      PM10          PM25           NO2       T2M\n",
       "0 -0.183010 -0.632281  2.551967e-15  8.010555e-16 -0.938671\n",
       "1  0.257764 -1.139721  2.551967e-15  8.010555e-16 -0.242614\n",
       "2  0.356118 -1.181502  2.551967e-15  8.010555e-16 -0.478428\n",
       "3  0.132710 -0.928523  2.551967e-15  8.010555e-16 -0.498111\n",
       "4 -0.006158 -0.832966  2.551967e-15  8.010555e-16 -0.779853"
      ]
     },
     "execution_count": 85,
     "metadata": {},
     "output_type": "execute_result"
    }
   ],
   "source": [
    "final_features.head()"
   ]
  },
  {
   "cell_type": "code",
   "execution_count": 86,
   "metadata": {
    "collapsed": true
   },
   "outputs": [],
   "source": [
    "Non_Continuous = pd.DataFrame(data = convert_to_categorical.fit_transform(non_continuous_data.region.astype('str')), columns=['region'])"
   ]
  },
  {
   "cell_type": "code",
   "execution_count": 87,
   "metadata": {},
   "outputs": [
    {
     "data": {
      "text/plain": [
       "array([[<matplotlib.axes._subplots.AxesSubplot object at 0x1196a1410>]], dtype=object)"
      ]
     },
     "execution_count": 87,
     "metadata": {},
     "output_type": "execute_result"
    },
    {
     "data": {
      "image/png": "[encoded data removed]",
      "text/plain": [
       "<matplotlib.figure.Figure at 0x11a11af90>"
      ]
     },
     "metadata": {},
     "output_type": "display_data"
    }
   ],
   "source": [
    "Non_Continuous.hist(figsize=(11,8))"
   ]
  },
  {
   "cell_type": "code",
   "execution_count": 88,
   "metadata": {},
   "outputs": [],
   "source": [
    "features=pd.concat([final_features, Non_Continuous], axis=1)"
   ]
  },
  {
   "cell_type": "code",
   "execution_count": 89,
   "metadata": {
    "collapsed": true
   },
   "outputs": [],
   "source": [
    "from sklearn.model_selection import train_test_split"
   ]
  },
  {
   "cell_type": "code",
   "execution_count": 90,
   "metadata": {
    "collapsed": true
   },
   "outputs": [],
   "source": [
    "X_train,X_test,Y_train,Y_test = train_test_split(features,mortality, random_state = 22, test_size = 0.2)"
   ]
  },
  {
   "cell_type": "code",
   "execution_count": 91,
   "metadata": {},
   "outputs": [
    {
     "data": {
      "text/html": [
       "<div>\n",
       "<table border=\"1\" class=\"dataframe\">\n",
       "  <thead>\n",
       "    <tr style=\"text-align: right;\">\n",
       "      <th></th>\n",
       "      <th>O3</th>\n",
       "      <th>PM10</th>\n",
       "      <th>PM25</th>\n",
       "      <th>NO2</th>\n",
       "      <th>T2M</th>\n",
       "      <th>region</th>\n",
       "    </tr>\n",
       "  </thead>\n",
       "  <tbody>\n",
       "    <tr>\n",
       "      <th>count</th>\n",
       "      <td>14722.000000</td>\n",
       "      <td>14722.000000</td>\n",
       "      <td>14722.000000</td>\n",
       "      <td>1.472200e+04</td>\n",
       "      <td>14722.000000</td>\n",
       "      <td>14722.000000</td>\n",
       "    </tr>\n",
       "    <tr>\n",
       "      <th>mean</th>\n",
       "      <td>-0.005214</td>\n",
       "      <td>0.007110</td>\n",
       "      <td>0.005757</td>\n",
       "      <td>8.092621e-03</td>\n",
       "      <td>-0.007175</td>\n",
       "      <td>3.815446</td>\n",
       "    </tr>\n",
       "    <tr>\n",
       "      <th>std</th>\n",
       "      <td>1.003262</td>\n",
       "      <td>1.001172</td>\n",
       "      <td>1.008138</td>\n",
       "      <td>1.008664e+00</td>\n",
       "      <td>1.000737</td>\n",
       "      <td>2.550057</td>\n",
       "    </tr>\n",
       "    <tr>\n",
       "      <th>min</th>\n",
       "      <td>-2.692056</td>\n",
       "      <td>-1.574920</td>\n",
       "      <td>-1.263222</td>\n",
       "      <td>-1.644752e+00</td>\n",
       "      <td>-3.365512</td>\n",
       "      <td>0.000000</td>\n",
       "    </tr>\n",
       "    <tr>\n",
       "      <th>25%</th>\n",
       "      <td>-0.638352</td>\n",
       "      <td>-0.676623</td>\n",
       "      <td>-0.662279</td>\n",
       "      <td>-6.044008e-01</td>\n",
       "      <td>-0.715689</td>\n",
       "      <td>2.000000</td>\n",
       "    </tr>\n",
       "    <tr>\n",
       "      <th>50%</th>\n",
       "      <td>0.027110</td>\n",
       "      <td>-0.264202</td>\n",
       "      <td>-0.106447</td>\n",
       "      <td>8.010555e-16</td>\n",
       "      <td>0.041830</td>\n",
       "      <td>4.000000</td>\n",
       "    </tr>\n",
       "    <tr>\n",
       "      <th>75%</th>\n",
       "      <td>0.646802</td>\n",
       "      <td>0.400558</td>\n",
       "      <td>0.137157</td>\n",
       "      <td>8.010555e-16</td>\n",
       "      <td>0.812327</td>\n",
       "      <td>6.000000</td>\n",
       "    </tr>\n",
       "    <tr>\n",
       "      <th>max</th>\n",
       "      <td>3.722478</td>\n",
       "      <td>6.211754</td>\n",
       "      <td>7.345448</td>\n",
       "      <td>9.728462e+00</td>\n",
       "      <td>2.641962</td>\n",
       "      <td>8.000000</td>\n",
       "    </tr>\n",
       "  </tbody>\n",
       "</table>\n",
       "</div>"
      ],
      "text/plain": [
       "                 O3          PM10          PM25           NO2           T2M  \\\n",
       "count  14722.000000  14722.000000  14722.000000  1.472200e+04  14722.000000   \n",
       "mean      -0.005214      0.007110      0.005757  8.092621e-03     -0.007175   \n",
       "std        1.003262      1.001172      1.008138  1.008664e+00      1.000737   \n",
       "min       -2.692056     -1.574920     -1.263222 -1.644752e+00     -3.365512   \n",
       "25%       -0.638352     -0.676623     -0.662279 -6.044008e-01     -0.715689   \n",
       "50%        0.027110     -0.264202     -0.106447  8.010555e-16      0.041830   \n",
       "75%        0.646802      0.400558      0.137157  8.010555e-16      0.812327   \n",
       "max        3.722478      6.211754      7.345448  9.728462e+00      2.641962   \n",
       "\n",
       "             region  \n",
       "count  14722.000000  \n",
       "mean       3.815446  \n",
       "std        2.550057  \n",
       "min        0.000000  \n",
       "25%        2.000000  \n",
       "50%        4.000000  \n",
       "75%        6.000000  \n",
       "max        8.000000  "
      ]
     },
     "execution_count": 91,
     "metadata": {},
     "output_type": "execute_result"
    }
   ],
   "source": [
    "X_train.describe()"
   ]
  },
  {
   "cell_type": "code",
   "execution_count": null,
   "metadata": {
    "collapsed": true
   },
   "outputs": [],
   "source": []
  }
 ],
 "metadata": {
  "kernelspec": {
   "display_name": "Python 2",
   "language": "python",
   "name": "python2"
  },
  "language_info": {
   "codemirror_mode": {
    "name": "ipython",
    "version": 2
   },
   "file_extension": ".py",
   "mimetype": "text/x-python",
   "name": "python",
   "nbconvert_exporter": "python",
   "pygments_lexer": "ipython2",
   "version": "2.7.13"
  }
 },
 "nbformat": 4,
 "nbformat_minor": 2
}
